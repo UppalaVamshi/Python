{
  "nbformat": 4,
  "nbformat_minor": 0,
  "metadata": {
    "colab": {
      "provenance": [],
      "authorship_tag": "ABX9TyOGTwTlst3C2+IKgIBwmWJF",
      "include_colab_link": true
    },
    "kernelspec": {
      "name": "python3",
      "display_name": "Python 3"
    },
    "language_info": {
      "name": "python"
    }
  },
  "cells": [
    {
      "cell_type": "markdown",
      "metadata": {
        "id": "view-in-github",
        "colab_type": "text"
      },
      "source": [
        "<a href=\"https://colab.research.google.com/github/UppalaVamshi/Python/blob/main/transformer.ipynb\" target=\"_parent\"><img src=\"https://colab.research.google.com/assets/colab-badge.svg\" alt=\"Open In Colab\"/></a>"
      ]
    },
    {
      "cell_type": "code",
      "execution_count": 5,
      "metadata": {
        "id": "x6VMkW6o-cI6"
      },
      "outputs": [],
      "source": [
        "def oc(vo,io,wo):\n",
        "  import math\n",
        "  npf=wo/(vo*io)\n",
        "  iw=io*npf\n",
        "  imv=io*math.sqrt(1-npf**2)\n",
        "  ro=vo/iw\n",
        "  xo=vo/imv\n",
        "  return ro,xo"
      ]
    },
    {
      "cell_type": "code",
      "source": [
        "def sc(vsc,isc,wsc):\n",
        "  import math\n",
        "  rhv=wsc/(isc**2)\n",
        "  zhv=vsc/isc\n",
        "  xhv=vsc/((zhv*2)-(rhv*2))\n",
        "  return rhv,xhv"
      ],
      "metadata": {
        "id": "h27bcA6W-m0X"
      },
      "execution_count": 6,
      "outputs": []
    },
    {
      "cell_type": "code",
      "source": [
        "def eff(r,wo,wsc,x,pf):\n",
        "  efficiency=(x*r*pf*100)/(x*r*pf+wo+(x**2)*wsc)\n",
        "  xcu=wsc*(x**2)\n",
        "  return efficiency,xcu"
      ],
      "metadata": {
        "id": "WvHFWb2N-p5-"
      },
      "execution_count": 7,
      "outputs": []
    }
  ]
}